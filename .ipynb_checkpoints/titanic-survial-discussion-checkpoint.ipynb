{
 "cells": [
  {
   "cell_type": "code",
   "execution_count": null,
   "id": "88b6e8c7-4380-4106-b80c-084b1487f026",
   "metadata": {},
   "outputs": [],
   "source": [
    "# Train Test Split\n",
    "# Printing Model Object\n",
    "# Create the Solution First then label areas you'll fill in "
   ]
  },
  {
   "cell_type": "markdown",
   "id": "e14773a1-e8f7-45d6-9fae-66ed74e4ed35",
   "metadata": {},
   "source": [
    "# What is Machine Learing?"
   ]
  },
  {
   "cell_type": "code",
   "execution_count": null,
   "id": "74eb27d2-2c01-41b2-9f27-5484a8633996",
   "metadata": {},
   "outputs": [],
   "source": [
    "from IPython.display import Image\n",
    "Image(filename='Data-Science-Process.jpg') "
   ]
  },
  {
   "cell_type": "markdown",
   "id": "1c541cf4-3977-48da-839b-72f411e069d2",
   "metadata": {},
   "source": [
    "# Data Science Process"
   ]
  },
  {
   "cell_type": "code",
   "execution_count": null,
   "id": "4f299d4f-996c-4424-a275-935fd37c6047",
   "metadata": {},
   "outputs": [],
   "source": [
    "# Variables Explained \n",
    "from IPython.display import Image\n",
    "Image(filename='Data-Science-Process.jpg') "
   ]
  },
  {
   "cell_type": "markdown",
   "id": "773b3cd8-2d77-4932-a145-31d599266a7c",
   "metadata": {},
   "source": [
    "## Importing Necessary Libraries"
   ]
  },
  {
   "cell_type": "code",
   "execution_count": null,
   "id": "525e9ec1-47c6-45fa-a003-084b47f7f296",
   "metadata": {},
   "outputs": [],
   "source": [
    "import pandas as pd\n",
    "import numpy as np\n",
    "import seaborn as sns\n",
    "\n",
    "import matplotlib.pyplot as plt\n",
    "plt.style.use('ggplot')\n",
    "\n",
    "# Hiding warnings\n",
    "import warnings\n",
    "warnings.filterwarnings(\"ignore\")"
   ]
  },
  {
   "cell_type": "code",
   "execution_count": null,
   "id": "5e043ce7-d816-4aae-aea9-23a6bd8345eb",
   "metadata": {},
   "outputs": [],
   "source": [
    "# Variables Explained \n",
    "# from IPython.display import Image\n",
    "Image(filename='Variables-Explained.png') "
   ]
  },
  {
   "cell_type": "code",
   "execution_count": null,
   "id": "29c23e09-d60b-4b27-a27c-548d36385795",
   "metadata": {
    "tags": []
   },
   "outputs": [],
   "source": [
    "df = pd.read_csv('titanic_dataset.csv')\n",
    "\n",
    "# Reordering\n",
    "df = df[[ 'Name', 'Sex', 'Age', 'PassengerId', 'Pclass', 'SibSp', 'Parch', 'Ticket', 'Fare', 'Cabin', 'Embarked', 'Survived']]\n",
    "df.head(5)"
   ]
  },
  {
   "cell_type": "markdown",
   "id": "ce686a59-b831-4b29-a19c-9b846a4e7328",
   "metadata": {
    "tags": []
   },
   "source": [
    "## Discussion Point - What are Variables You Think Are Important?"
   ]
  },
  {
   "cell_type": "code",
   "execution_count": null,
   "id": "eb56f8ad-d0b0-4f72-b0a0-31239d793c37",
   "metadata": {},
   "outputs": [],
   "source": [
    "plt.figure(figsize = (8,5))\n",
    "sns.countplot(x='Survived', data=df)"
   ]
  },
  {
   "cell_type": "code",
   "execution_count": null,
   "id": "c8ec406c-2f3d-4308-b6f9-8e2b56d8998f",
   "metadata": {},
   "outputs": [],
   "source": [
    "df.columns"
   ]
  },
  {
   "cell_type": "code",
   "execution_count": null,
   "id": "0c46955f-bff1-489c-be4a-08d4da83c18d",
   "metadata": {},
   "outputs": [],
   "source": [
    "sns.set(style=\"darkgrid\")\n",
    "\n",
    "# Split the living vs. dead and ploted them\n",
    "lived = df[df['Survived'] == 1]\n",
    "died = df[df['Survived'] == 0]\n",
    "\n",
    "plt.figure(figsize = (10,7))\n",
    "\n",
    "# Overlay of who lived and died by age\n",
    "sns.histplot(data=lived, x=\"Age\", color=\"blue\", label=\"Survived\", kde=True)\n",
    "sns.histplot(data=died, x=\"Age\", color=\"red\", label=\"Died\", kde=True)\n",
    "\n",
    "plt.legend() \n",
    "plt.show()"
   ]
  },
  {
   "cell_type": "code",
   "execution_count": null,
   "id": "6a816603-0a1b-4c57-94a1-eb33414a6191",
   "metadata": {},
   "outputs": [],
   "source": [
    "# Women Plot\n",
    "sns.catplot(x=\"Survived\", col=\"Sex\", col_wrap=2, data=df, kind=\"count\", height=4.5, aspect=1)"
   ]
  },
  {
   "cell_type": "code",
   "execution_count": null,
   "id": "9f113984-9992-4dbe-9010-2dd47884ec6d",
   "metadata": {},
   "outputs": [],
   "source": [
    "# Passenger Class\n",
    "sns.catplot(x=\"Survived\", col=\"Pclass\", col_wrap=3, data=df, kind=\"count\", height=4.5, aspect=1)"
   ]
  },
  {
   "cell_type": "markdown",
   "id": "56fdcef7-3cfe-430d-83aa-67fe1c26a7cd",
   "metadata": {},
   "source": [
    "## I really like this plot"
   ]
  },
  {
   "cell_type": "code",
   "execution_count": null,
   "id": "0006efcc-33d0-444e-9287-f4d29393ec26",
   "metadata": {},
   "outputs": [],
   "source": [
    "# # Correlation Plot \n",
    "# plt.figure(figsize=(9,9))\n",
    "# sns.heatmap(df.corr(), annot=True, cmap='rocket')"
   ]
  },
  {
   "cell_type": "code",
   "execution_count": null,
   "id": "d5fbdf2d-ce6c-41b4-9d5c-cbddcb3298b5",
   "metadata": {},
   "outputs": [],
   "source": [
    "df.columns"
   ]
  },
  {
   "cell_type": "markdown",
   "id": "a9e8628d-a7eb-426e-bac9-18b7f9c238f1",
   "metadata": {},
   "source": [
    "## What about Missing Data?"
   ]
  },
  {
   "cell_type": "code",
   "execution_count": null,
   "id": "7b1e990a-115f-496f-b111-a3b9a4e31171",
   "metadata": {},
   "outputs": [],
   "source": [
    "# Reordering\n",
    "df = df[[ 'Sex', 'Age', 'Pclass', 'SibSp', 'Parch', 'Embarked', 'Fare', 'Survived']]\n",
    "print(\"Number of rows: \", df.shape[0])\n",
    "print(\"\"\"\"\n",
    "Done for Space\n",
    "\"\"\")\n",
    "df.info()"
   ]
  },
  {
   "cell_type": "code",
   "execution_count": null,
   "id": "100ef0e8-439a-494f-b770-8a0d11a10dd8",
   "metadata": {},
   "outputs": [],
   "source": [
    "df['Age'].fillna(df['Age'].mean(), inplace = True)"
   ]
  },
  {
   "cell_type": "code",
   "execution_count": null,
   "id": "fad106b4-262b-4e67-97cd-b38a306a79e8",
   "metadata": {},
   "outputs": [],
   "source": [
    "df['Embarked'].value_counts()"
   ]
  },
  {
   "cell_type": "code",
   "execution_count": null,
   "id": "02004968-19f6-4e66-81b1-e94430982275",
   "metadata": {},
   "outputs": [],
   "source": [
    "df['Embarked'].fillna('S', inplace = True)\n",
    "df.info()"
   ]
  },
  {
   "cell_type": "markdown",
   "id": "d02ccf64-d56c-404c-b43f-b32bfd6d25bf",
   "metadata": {
    "tags": []
   },
   "source": [
    "## Looks like age and Embarkation "
   ]
  },
  {
   "cell_type": "markdown",
   "id": "a4c05ab0-2395-47ac-81b4-9a7ae24107ed",
   "metadata": {},
   "source": [
    "## Computers can't read"
   ]
  },
  {
   "cell_type": "code",
   "execution_count": null,
   "id": "c55e8d60-0331-4da9-bac8-d72a90669cd4",
   "metadata": {},
   "outputs": [],
   "source": [
    "df.head()"
   ]
  },
  {
   "cell_type": "code",
   "execution_count": null,
   "id": "b86ecd87-41cf-439a-811c-42e893626fe0",
   "metadata": {},
   "outputs": [],
   "source": [
    "print(\"The Sex variable is\", df['Sex'].unique()[0], \"|\" ,df['Sex'].unique()[1])\n",
    "print(\"The Embarking variable is\", df['Embarked'].unique()[0], \",\" ,df['Embarked'].unique()[1], \"and\", df['Embarked'].unique()[2])"
   ]
  },
  {
   "cell_type": "markdown",
   "id": "563f12e9-caa0-4ede-9e0c-82ba19a8f7c0",
   "metadata": {},
   "source": [
    "## Encoding of variables"
   ]
  },
  {
   "cell_type": "code",
   "execution_count": null,
   "id": "9a3757a3-3b32-4f7d-81d8-b3249b180752",
   "metadata": {},
   "outputs": [],
   "source": [
    "cat_feats = ['Sex', 'Embarked']\n",
    "df = pd.get_dummies(df,columns=cat_feats)\n",
    "\n",
    "df = df[[ 'Sex_male', 'Sex_female', 'Age', 'Pclass', 'SibSp', 'Parch', 'Embarked_C', 'Embarked_Q', 'Embarked_S', 'Fare', 'Survived']]"
   ]
  },
  {
   "cell_type": "code",
   "execution_count": null,
   "id": "f43b6243-9b14-46e7-8f73-3275decc1fce",
   "metadata": {},
   "outputs": [],
   "source": [
    "# Correlation Plot \n",
    "plt.figure(figsize=(9,9))\n",
    "sns.heatmap(df.corr(), annot=True, cmap='rocket')"
   ]
  },
  {
   "cell_type": "markdown",
   "id": "5f969818-1464-4df9-b32c-3c3934090aca",
   "metadata": {
    "tags": []
   },
   "source": [
    "## Final Data Set With the Extra Variables Dropped"
   ]
  },
  {
   "cell_type": "code",
   "execution_count": null,
   "id": "7cfe9220-1e6f-4f22-a4dc-f236c6de4385",
   "metadata": {},
   "outputs": [],
   "source": [
    "df.head(3)"
   ]
  },
  {
   "cell_type": "markdown",
   "id": "d42df9b5-c070-4e58-8166-74832eebbaa2",
   "metadata": {},
   "source": [
    "## Training vs. Testing - How well your model will generalize"
   ]
  },
  {
   "cell_type": "code",
   "execution_count": null,
   "id": "1629c042-0af6-431b-af76-9c2cdb0269d6",
   "metadata": {},
   "outputs": [],
   "source": [
    "Image(filename='Train-Test-Split.jpg')"
   ]
  },
  {
   "cell_type": "markdown",
   "id": "697962da-0175-4282-af5f-dad1268a2fa2",
   "metadata": {},
   "source": [
    "## Train Test Split"
   ]
  },
  {
   "cell_type": "code",
   "execution_count": null,
   "id": "131aad76-cc0a-4a37-a480-776e5c171c74",
   "metadata": {},
   "outputs": [],
   "source": [
    "# Splitting into X and Y Variables\n",
    "X = df.drop('Survived',axis=1) \n",
    "y =  df['Survived']\n",
    "\n",
    "# Train Test Split\n",
    "from sklearn.model_selection import train_test_split\n",
    "X_train, X_test, y_train, y_test = train_test_split(X, y, test_size=0.35, random_state=101)"
   ]
  },
  {
   "cell_type": "markdown",
   "id": "a667f4cb-2d71-48d0-8568-e1a8a42ec47b",
   "metadata": {},
   "source": [
    "## Now the AI Starts - Decision Tree or Logit?"
   ]
  },
  {
   "cell_type": "code",
   "execution_count": null,
   "id": "af434e00-44b1-4680-96bc-713cb7d553d5",
   "metadata": {},
   "outputs": [],
   "source": [
    "Image(filename='logit.png')"
   ]
  },
  {
   "cell_type": "code",
   "execution_count": null,
   "id": "3f562b62-2aef-4999-91dc-6c6a0edd368c",
   "metadata": {},
   "outputs": [],
   "source": [
    "Image(filename='decision-tree.png')"
   ]
  },
  {
   "cell_type": "markdown",
   "id": "b90fe86b-1699-4fe7-a641-8282146fe69a",
   "metadata": {},
   "source": [
    "## Using Logistic Regression"
   ]
  },
  {
   "cell_type": "code",
   "execution_count": null,
   "id": "19854e33-57b7-4566-8648-d199774669ec",
   "metadata": {},
   "outputs": [],
   "source": [
    "df.head(3)"
   ]
  },
  {
   "cell_type": "code",
   "execution_count": null,
   "id": "8e466b75-fda6-40f1-957b-f8dd8663156e",
   "metadata": {},
   "outputs": [],
   "source": [
    "# importing logistic regression\n",
    "from sklearn.linear_model import LogisticRegression \n",
    "logReg = LogisticRegression()\n",
    "\n",
    "logReg.fit(X_train, y_train)"
   ]
  },
  {
   "cell_type": "code",
   "execution_count": null,
   "id": "0fe0df39-0b11-482b-96d0-568b08055bf4",
   "metadata": {},
   "outputs": [],
   "source": [
    "y_test"
   ]
  },
  {
   "cell_type": "code",
   "execution_count": null,
   "id": "056cc2c0-068f-4632-a7d8-b473d4ba8011",
   "metadata": {},
   "outputs": [],
   "source": [
    "# Predicting and Making a classification report\n",
    "predictions = logReg.predict(X_test)\n",
    "\n",
    "from sklearn.metrics import classification_report, confusion_matrix\n",
    "\n",
    "# Making the classification report\n",
    "print('Classification Report:')\n",
    "print(classification_report(y_test,predictions))\n",
    "print('\\n')\n",
    "print('Confusion Matrix:')\n",
    "print(confusion_matrix(y_test,predictions))"
   ]
  },
  {
   "cell_type": "markdown",
   "id": "45affb65-eb1a-45cd-a8be-a4c32ca53ff9",
   "metadata": {},
   "source": [
    "# What is good?"
   ]
  },
  {
   "cell_type": "code",
   "execution_count": null,
   "id": "c64c6e23-0d85-4fa5-ac38-01be89948d89",
   "metadata": {},
   "outputs": [],
   "source": [
    "Image(filename='Confusion-matrix.jpg')"
   ]
  },
  {
   "cell_type": "code",
   "execution_count": null,
   "id": "735496d8-8809-477d-b162-0b745935fb76",
   "metadata": {},
   "outputs": [],
   "source": [
    "Image(filename='ROC-Curve-of-a-Logistic-Regression-Model-and-a-No-Skill-Classifier.png')"
   ]
  },
  {
   "cell_type": "code",
   "execution_count": null,
   "id": "f06f5b8c-9c17-4e13-a9a6-2397018f58d0",
   "metadata": {},
   "outputs": [],
   "source": []
  },
  {
   "cell_type": "markdown",
   "id": "3c3c685f-a011-4dc0-a069-064466ef2a30",
   "metadata": {},
   "source": [
    "## Using Random Forest"
   ]
  },
  {
   "cell_type": "code",
   "execution_count": null,
   "id": "de64f14b-e870-44f5-a168-c9363c2f393d",
   "metadata": {},
   "outputs": [],
   "source": [
    "# Importing Random Forest\n",
    "from sklearn.ensemble import RandomForestClassifier\n",
    "rand_forest = RandomForestClassifier()\n",
    "\n",
    "\n",
    "# Fitting and Predicting \n",
    "rand_forest.fit(X_train, y_train)\n",
    "pred = rand_forest.predict(X_test)\n",
    "\n",
    "# Printing the confusion matrix\n",
    "print(\"Classification Report:\")\n",
    "print(classification_report(y_test,pred))\n",
    "print('\\n')\n",
    "print(\"Confusion Matrix:\")\n",
    "print(confusion_matrix(y_test,pred))"
   ]
  },
  {
   "cell_type": "code",
   "execution_count": null,
   "id": "be8d4bdd-e179-4e8a-99a5-af629bcb6ae4",
   "metadata": {},
   "outputs": [],
   "source": [
    "import time\n",
    "\n",
    "start_time = time.time()\n",
    "importances = rand_forest.feature_importances_\n",
    "std = np.std([\n",
    "    tree.feature_importances_ for tree in rand_forest.estimators_], axis=0)\n",
    "elapsed_time = time.time() - start_time\n",
    "\n",
    "print(f\"Elapsed time to compute the importances: \"\n",
    "      f\"{elapsed_time:.3f} seconds\")"
   ]
  },
  {
   "cell_type": "code",
   "execution_count": null,
   "id": "8bec68ea-ca7c-4640-a06f-eca18beae470",
   "metadata": {},
   "outputs": [],
   "source": [
    "forest_importances = pd.Series(importances, index=X.columns)\n",
    "\n",
    "fig, ax = plt.subplots(figsize=(8,6))\n",
    "forest_importances.plot.bar(yerr=std, ax=ax)\n",
    "ax.set_title(\"Feature importances using MDI\")\n",
    "ax.set_ylabel(\"Mean decrease in impurity\")\n",
    "fig.tight_layout()"
   ]
  },
  {
   "cell_type": "code",
   "execution_count": null,
   "id": "6e2b6f50-36e5-4f03-9c4a-1320aad39fbc",
   "metadata": {},
   "outputs": [],
   "source": [
    "# Printing the Model Object\n",
    "print(X_test.columns)\n",
    "\n",
    "print(\"\"\"\" \"\"\")\n",
    "\n",
    "print(logReg.coef_)"
   ]
  },
  {
   "cell_type": "code",
   "execution_count": null,
   "id": "50b8b4f1-05f0-4b72-9eae-2450a277f78c",
   "metadata": {},
   "outputs": [],
   "source": []
  },
  {
   "cell_type": "code",
   "execution_count": null,
   "id": "7e729447-22ae-4c23-a1a5-de5f4e6a050d",
   "metadata": {},
   "outputs": [],
   "source": []
  }
 ],
 "metadata": {
  "kernelspec": {
   "display_name": "Python 3 (ipykernel)",
   "language": "python",
   "name": "python3"
  },
  "language_info": {
   "codemirror_mode": {
    "name": "ipython",
    "version": 3
   },
   "file_extension": ".py",
   "mimetype": "text/x-python",
   "name": "python",
   "nbconvert_exporter": "python",
   "pygments_lexer": "ipython3",
   "version": "3.10.8"
  }
 },
 "nbformat": 4,
 "nbformat_minor": 5
}
